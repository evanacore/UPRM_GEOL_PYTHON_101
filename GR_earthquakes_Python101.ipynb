{
 "cells": [
  {
   "cell_type": "markdown",
   "id": "72e596e8",
   "metadata": {},
   "source": [
    "In this notebook, I will use a more traditional C++ style of reading a CSV file to read in earthquake data and then calculate the Gutenberg-Richter curve. Notice how different this appears to the pandas style of reading data. \n",
    "\n",
    "As with the Mapping notebook, the first step is to load the libraries that will be used."
   ]
  },
  {
   "cell_type": "code",
   "execution_count": 3,
   "id": "6b45a429",
   "metadata": {},
   "outputs": [],
   "source": [
    "import csv\n",
    "import sys\n",
    "import numpy as np\n",
    "import matplotlib \n",
    "from matplotlib import pylab as py"
   ]
  },
  {
   "cell_type": "markdown",
   "id": "c59fffc4",
   "metadata": {},
   "source": [
    "As with the other notebook, stylistically I like to put all my constant variables in the first part of the code. This is a style choice rather than a necessary choice. "
   ]
  },
  {
   "cell_type": "code",
   "execution_count": 13,
   "id": "c4f09bc0",
   "metadata": {},
   "outputs": [],
   "source": [
    "#First set the file with the earthquake data\n",
    "file_full = \"PRSNCAT2004_2018\"\n",
    "#next some variables for the calculation\n",
    "# minmag is the minimum magnitude to use in the calculation in G-R this is usually the magnitude that there is \n",
    "# catalog completeness.\n",
    "minmag = 2.7\n",
    "\n",
    "#The numyear is a flag that either says treat the data set as a whole (1) or get an annulized G-R curve by replacing \n",
    "# the 1 with the number of years of data used.\n",
    "numyear = 15\n",
    "#This denotes the column that contains the magnitudes. Note in C the count starts at 0 so here the 9 indicates that \n",
    "#the information is in the 10th column\n",
    "mag_column_num = 9\n"
   ]
  },
  {
   "cell_type": "markdown",
   "id": "c1fd1135",
   "metadata": {},
   "source": [
    "The next step is to open the file and load the data. This will be more complicated than the map pandas example. Here we are using the C++ style. \n",
    "    1. Open the file\n",
    "    2. Read the data\n",
    "    3. Convert the number which is read in like text to a float (aka a number with decimal points)\n",
    "    4. Store that data in an array (like a column in Excel)\n",
    "    5. Close the file"
   ]
  },
  {
   "cell_type": "code",
   "execution_count": 14,
   "id": "a61ac0fa",
   "metadata": {},
   "outputs": [
    {
     "name": "stdout",
     "output_type": "stream",
     "text": [
      "Magnitude not converted...skipping\n",
      "Magnitude not converted...skipping\n"
     ]
    }
   ],
   "source": [
    "#Step 1 open the file\n",
    "token = open(file_full,'r',)\n",
    "# Tell the computer to read the file line by line\n",
    "linestoken = token.readlines()\n",
    "#initiate arrays to store the text data and numerical version of the data\n",
    "mag = []\n",
    "mag2 =[]\n",
    "#Tell the computer to perform the conversion line by line\n",
    "for x in linestoken:\n",
    "#For each line split the information into columns using , as a delimiter\n",
    "    parts = x.split(',')\n",
    "#Try converting the value in the magnitude column to a float number\n",
    "    try:\n",
    "        mag=float(parts[mag_column_num])\n",
    "#If the conversion fails, don't use that lineand continue to the next line\n",
    "    except:\n",
    "        print(\"Magnitude not converted...skipping\")\n",
    "#put the converted data into an array for further calculations\n",
    "    mag2.append(mag)\n",
    "#close the file when you are finished\n",
    "token.close()\n"
   ]
  },
  {
   "cell_type": "markdown",
   "id": "4e490100",
   "metadata": {},
   "source": [
    "The next step is to prepare the data for the calculation"
   ]
  },
  {
   "cell_type": "code",
   "execution_count": 15,
   "id": "419c5396",
   "metadata": {},
   "outputs": [
    {
     "name": "stdout",
     "output_type": "stream",
     "text": [
      "Number of Earthquakes Used: 21888\n",
      "Minimum Magnitude: 2.7\n"
     ]
    }
   ],
   "source": [
    "# Get the total number of Earthquakes\n",
    "numall = len(mag2)\n",
    "# Now find out how many earthquakes are greater than the min magnitude and save those in a separate array\n",
    "used_mag = [i for i in mag2 if i>minmag]\n",
    "numused = len(used_mag)\n",
    "# Print out some info on the screen\n",
    "print('Number of Earthquakes Used:',  numused)\n",
    "print('Minimum Magnitude:' , minmag)\n",
    "# Set Maximum Magnitude for the statistical work based on the data \n",
    "#Also create the bins for the histograms\n",
    "max_mag = max(used_mag)\n",
    "maxbin = max_mag + 0.05\n",
    "bin_int = 0.05\n",
    "# create Magnitude bins\n",
    "bins = np.arange(minmag,maxbin, bin_int)\n",
    "#make bins for plotting\n",
    "plotbins = np.arange(minmag,max_mag,bin_int)\n"
   ]
  },
  {
   "cell_type": "markdown",
   "id": "0e03388a",
   "metadata": {},
   "source": [
    "Now let's plot some earthquake statistics!"
   ]
  },
  {
   "cell_type": "code",
   "execution_count": 16,
   "id": "6989b1ca",
   "metadata": {},
   "outputs": [
    {
     "data": {
      "image/png": "[encoded data removed]",
      "text/plain": [
       "<Figure size 432x288 with 1 Axes>"
      ]
     },
     "metadata": {
      "needs_background": "light"
     },
     "output_type": "display_data"
    },
    {
     "data": {
      "text/plain": [
       "<Figure size 576x576 with 0 Axes>"
      ]
     },
     "metadata": {},
     "output_type": "display_data"
    }
   ],
   "source": [
    "# MAKE the HISTOGRAM!\n",
    "#############################################################\n",
    "counts, bin2s = np.histogram(used_mag)\n",
    "py.hist(bin2s[:-1], bin2s, weights=counts)\n",
    "fig = py.figure(figsize=(8,8))\n",
    "hist=np.histogram(used_mag,bins=bins)\n",
    "##Reverse the array order for cummulative plot\n",
    "hist=hist[0][::-1]\n",
    "bins=bins[::-1]\n",
    "\n"
   ]
  },
  {
   "cell_type": "markdown",
   "id": "3d357260",
   "metadata": {},
   "source": [
    "Now let's calculate the cummulative curve"
   ]
  },
  {
   "cell_type": "code",
   "execution_count": 17,
   "id": "b0198be8",
   "metadata": {},
   "outputs": [
    {
     "name": "stderr",
     "output_type": "stream",
     "text": [
      "<ipython-input-17-176f1673bd94>:6: RuntimeWarning: divide by zero encountered in log10\n",
      "  log_cum_hist= np.where(cum_hist != 0 , np.log10(cum_hist), 0)\n"
     ]
    }
   ],
   "source": [
    "# Calculate the cummulative curve\n",
    "#########################################################\n",
    "cum_hist = hist.cumsum()\n",
    "bins = bins[1:]\n",
    "# And calculate the log base 10 for the data\n",
    "log_cum_hist= np.where(cum_hist != 0 , np.log10(cum_hist), 0)\n",
    "\n"
   ]
  },
  {
   "cell_type": "markdown",
   "id": "d57e1bbd",
   "metadata": {},
   "source": [
    "There are two different ways to calculate the b value for a G-R curve. The least squares method or the maximum likelihood method. For best results I prefer to calculate both. "
   ]
  },
  {
   "cell_type": "code",
   "execution_count": 19,
   "id": "ec5a6298",
   "metadata": {},
   "outputs": [
    {
     "name": "stdout",
     "output_type": "stream",
     "text": [
      "Least Squares b Value: 1.30\n",
      "Calculate annual rate selected!\n",
      "Least Squares Annual b Value:1.18\n",
      "Maximum Likelihood b value: 1.02\n"
     ]
    },
    {
     "name": "stderr",
     "output_type": "stream",
     "text": [
      "<ipython-input-19-f4696a5298df>:12: RuntimeWarning: divide by zero encountered in log10\n",
      "  log_cum_hist_ann= np.where(cum_hist2 != 0 , np.log10(cum_hist2), 0)\n"
     ]
    }
   ],
   "source": [
    "# Use least squares to fit the data to calculate the a, b values\n",
    "# Calculates for both full and annual rates\n",
    "########################################################\n",
    "\n",
    "b,a = np.polyfit(bins, log_cum_hist,1)\n",
    "print('Least Squares b Value:', \"%2.2f\"% (-1.*b))\n",
    "        \n",
    "#   Calculate in terms of annual productivity if selected\n",
    "if numyear != 1:\n",
    "    print('Calculate annual rate selected!')\n",
    "    cum_hist2=np.true_divide(cum_hist, numyear)\n",
    "    log_cum_hist_ann= np.where(cum_hist2 != 0 , np.log10(cum_hist2), 0)\n",
    "    b_ann,a_ann = np.polyfit(bins, log_cum_hist_ann,1)\n",
    "    print('Least Squares Annual b Value:' \"%2.2f\"% (-1.*b_ann))\n",
    "       \n",
    "######################################################\n",
    "# Now Calculate using Maximum Likelyhood estimate fit\n",
    "######################################################\n",
    "\n",
    "b_ml= np.log10(np.exp(1))/(np.mean(used_mag)-minmag)\n",
    "print('Maximum Likelihood b value:', \"%2.2f\"% (b_ml))\n",
    "ml_fit = -1.0 * b_ml *plotbins + 1.0*b_ml*minmag +np.log10(numused)\n"
   ]
  },
  {
   "cell_type": "markdown",
   "id": "14b8e7bb",
   "metadata": {},
   "source": [
    "Finally, Let's plot the results using matplotlib. "
   ]
  },
  {
   "cell_type": "code",
   "execution_count": 32,
   "id": "7b1f3d50",
   "metadata": {},
   "outputs": [
    {
     "data": {
      "image/png": "[encoded data removed]",
      "text/plain": [
       "<Figure size 432x288 with 1 Axes>"
      ]
     },
     "metadata": {
      "needs_background": "light"
     },
     "output_type": "display_data"
    }
   ],
   "source": [
    "# Now to make some plots of the results\n",
    "#####################################################\n",
    "\n",
    "# First we need some data and convert value to log for plotting the fit line\n",
    "#\n",
    "# Prep for Least squares solution\n",
    "#y intercept\n",
    "yint = log_cum_hist[-1]-b*minmag\n",
    "# least squares fit line full\n",
    "ls_line = b*plotbins +yint\n",
    "ls_line_plot = np.power(10,ls_line)\n",
    "\n",
    "# Prep for Least squares solution annual rate\n",
    "#y intercept\n",
    "if numyear != 1:\n",
    "    yint_ann = log_cum_hist_ann[-1]-b_ann*minmag\n",
    "# least squares fit line full\n",
    "    ls_line_ann = b_ann*plotbins +yint_ann\n",
    "    ls_line_plot_ann = np.power(10,ls_line_ann)\n",
    "\n",
    "###We also need to do the prep work for the Maximum likelihood method\n",
    "# ML line \n",
    "\n",
    "ml_fit_plot = np.power(10,ml_fit)\n",
    "\n",
    "\n",
    "# Plot Least squares results\n",
    "\n",
    "ax = py.gca()\n",
    "ax.scatter(bins, cum_hist, c='b', label = 'PRSN_Catalog')\n",
    "if numyear != 1:\n",
    "    ax.scatter(bins, cum_hist2, c='orange',label = 'Annual')\n",
    "    ax.plot(plotbins, ls_line_plot_ann, c='r', label= 'Least Squares Annual')\n",
    "ax.plot(plotbins, ls_line_plot, c='b', label= 'Least Squares')\n",
    "ax.plot(plotbins, ml_fit_plot, c='c', label= 'Maximum Likelihood')\n",
    "ax.set_yscale('log')\n",
    "ax.legend()\n",
    "ax.set_ylabel('Number of earthquakes')\n",
    "ax.set_xlabel('Magnitude')\n",
    "\n",
    "py.show()\n",
    "\n"
   ]
  },
  {
   "cell_type": "code",
   "execution_count": null,
   "id": "34358f02",
   "metadata": {},
   "outputs": [],
   "source": []
  }
 ],
 "metadata": {
  "kernelspec": {
   "display_name": "Python 3",
   "language": "python",
   "name": "python3"
  },
  "language_info": {
   "codemirror_mode": {
    "name": "ipython",
    "version": 3
   },
   "file_extension": ".py",
   "mimetype": "text/x-python",
   "name": "python",
   "nbconvert_exporter": "python",
   "pygments_lexer": "ipython3",
   "version": "3.9.2"
  }
 },
 "nbformat": 4,
 "nbformat_minor": 5
}
